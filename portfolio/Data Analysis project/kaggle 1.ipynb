{
 "cells": [
  {
   "cell_type": "code",
   "execution_count": 6,
   "metadata": {},
   "outputs": [],
   "source": [
    "import pandas as pd\n",
    "import numpy as np\n",
    "from sklearn.linear_model import LinearRegression\n",
    "from sklearn.metrics import mean_squared_error\n",
    "from sklearn.model_selection import train_test_split\n"
   ]
  },
  {
   "cell_type": "code",
   "execution_count": 28,
   "metadata": {},
   "outputs": [
    {
     "name": "stdout",
     "output_type": "stream",
     "text": [
      "MSE:  42255367199.27612\n"
     ]
    },
    {
     "data": {
      "text/plain": [
       "0.7001612723966781"
      ]
     },
     "execution_count": 28,
     "metadata": {},
     "output_type": "execute_result"
    }
   ],
   "source": [
    "#read in data\n",
    "df = pd.read_csv('train_data.csv')\n",
    "data = df.dropna()\n",
    "\n",
    "#perform linear regression\n",
    "reg = LinearRegression()\n",
    "labels = data['price']\n",
    "dates = data['date']\n",
    "#train1 = data.drop(['id','price','date', 'lat', 'long','zipcode'], axis=1)\n",
    "train1 = data.drop(['id','price','date'], axis=1)\n",
    "#train test split\n",
    "x_train, x_test, y_train, y_test = train_test_split(train1, labels, test_size = .2, random_state = 2)\n",
    "reg.fit(x_train,y_train)\n",
    "#make predictions\n",
    "predictions = reg.predict(x_test)\n",
    "error = mean_squared_error(y_test,predictions)\n",
    "print(\"MSE: \", error)\n",
    "\n",
    "reg.score(x_test,y_test)"
   ]
  },
  {
   "cell_type": "code",
   "execution_count": 29,
   "metadata": {},
   "outputs": [
    {
     "data": {
      "text/plain": [
       "0.906713611299772"
      ]
     },
     "execution_count": 29,
     "metadata": {},
     "output_type": "execute_result"
    }
   ],
   "source": [
    "from sklearn import ensemble\n",
    "clf = ensemble.GradientBoostingRegressor(n_estimators = 400, max_depth = 5, min_samples_split = 2, learning_rate = .2, loss = 'ls')\n",
    "clf.fit(x_train,y_train)\n",
    "clf.score(x_test,y_test)"
   ]
  },
  {
   "cell_type": "code",
   "execution_count": 17,
   "metadata": {},
   "outputs": [
    {
     "name": "stdout",
     "output_type": "stream",
     "text": [
      "MSE:  113743.67810593863\n"
     ]
    }
   ],
   "source": [
    "predictions = clf.predict(x_test)\n",
    "predictions = predictions.round()\n",
    "\n",
    "error = mean_squared_error(y_test,predictions)\n",
    "print(\"MSE: \", error**(1/2))"
   ]
  },
  {
   "cell_type": "code",
   "execution_count": 18,
   "metadata": {},
   "outputs": [],
   "source": [
    "# read in valid data\n",
    "\n",
    "df_valid = pd.read_csv('val_data.csv')\n",
    "data_valid = df_valid.dropna()\n",
    "\n",
    "ids = data_valid[\"Unnamed: 0\"]\n",
    "data_valid= data_valid.drop(['id','date'], axis=1)\n",
    "\n",
    "valid_predictions = clf.predict(data_valid)\n",
    "\n"
   ]
  },
  {
   "cell_type": "code",
   "execution_count": 19,
   "metadata": {},
   "outputs": [],
   "source": [
    "import csv\n",
    "\n",
    "valid_predictions = valid_predictions.round(-2)\n",
    "dafr = pd.DataFrame(ids, columns=['Unique_idx', 'price'])\n",
    "dafr['price'] = valid_predictions\n",
    "dafr['Unique_idx'] = ids\n",
    "file = open('Valid_prices.csv','w')\n",
    "\n",
    "export_csv = dafr.to_csv('Valid_prices.csv', index = None, header = True )\n",
    "  \n",
    "\n",
    "    "
   ]
  },
  {
   "cell_type": "code",
   "execution_count": null,
   "metadata": {},
   "outputs": [],
   "source": []
  }
 ],
 "metadata": {
  "kernelspec": {
   "display_name": "Python 3",
   "language": "python",
   "name": "python3"
  },
  "language_info": {
   "codemirror_mode": {
    "name": "ipython",
    "version": 3
   },
   "file_extension": ".py",
   "mimetype": "text/x-python",
   "name": "python",
   "nbconvert_exporter": "python",
   "pygments_lexer": "ipython3",
   "version": "3.7.3"
  }
 },
 "nbformat": 4,
 "nbformat_minor": 4
}
